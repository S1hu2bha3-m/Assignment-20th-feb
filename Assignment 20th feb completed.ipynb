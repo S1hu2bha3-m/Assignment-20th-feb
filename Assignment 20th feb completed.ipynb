{
 "cells": [
  {
   "cell_type": "markdown",
   "id": "2f3d70df-8167-4422-bdfd-299b54c94f2e",
   "metadata": {},
   "source": [
    "Q1. Explain GET and POST methods."
   ]
  },
  {
   "cell_type": "markdown",
   "id": "4e61038f-cea4-42cc-8b7f-ddc4cb33fdad",
   "metadata": {},
   "source": [
    "Ans. GET:\n",
    "\n",
    "The GET method is used to request a resource (such as a web page or an image) from a server. When a user clicks on a link or enters a URL into a browser's address bar, the browser sends a GET request to the server, which then responds with the requested resource.\n",
    "\n",
    "POST:\n",
    "\n",
    "The POST method is used to submit data to a server, typically for the purpose of creating, updating, or deleting a resource. When a user fills out a form and submits it, the browser sends a POST request to the server, which then processes the data and returns a response."
   ]
  },
  {
   "cell_type": "markdown",
   "id": "4ed5ad73-7d22-4ae2-9950-6b653c700fb4",
   "metadata": {},
   "source": [
    "Q2. Why is request used in Flask?"
   ]
  },
  {
   "cell_type": "markdown",
   "id": "67cb98da-2191-492b-a4bf-fc227a388687",
   "metadata": {},
   "source": [
    "Ans. In Flask, the request module is used to handle HTTP requests made by clients to a web application. The request object is an instance of the Request class, which contains information about the current request such as the headers, query parameters, and form data."
   ]
  },
  {
   "cell_type": "markdown",
   "id": "12a5460e-c9c9-49df-8f21-0c4f2288edf9",
   "metadata": {},
   "source": [
    "3. Why is redirect() used in Flask?"
   ]
  },
  {
   "cell_type": "markdown",
   "id": "347efd44-9564-4186-b223-f195a67d9d45",
   "metadata": {},
   "source": [
    "Ans. In Flask, the redirect() function is used to redirect the user's web browser to a different URL. This function is often used in web applications to redirect users after they have completed a certain action or to direct them to a different part of the website."
   ]
  },
  {
   "cell_type": "markdown",
   "id": "e5214359-297c-464b-a487-a207aca7b3a6",
   "metadata": {},
   "source": [
    "Q4. What are templates in Flask? Why is the render_template() function used?"
   ]
  },
  {
   "cell_type": "markdown",
   "id": "7f6d4047-d384-4a6c-9863-e2f969e75731",
   "metadata": {},
   "source": [
    "Ans. In Flask, templates are used to generate dynamic HTML content for web pages. Templates allow developers to separate the presentation logic from the application logic, making it easier to maintain and update the user interface of a web application.\n",
    "\n",
    "The render_template() function is used to generate HTML content by rendering a Jinja2 template with the given context data. The context data is a set of variables that will be passed to the template and used to generate the dynamic content. "
   ]
  },
  {
   "cell_type": "markdown",
   "id": "15577fe7-166b-421d-b16c-977cdac9c8b8",
   "metadata": {},
   "source": [
    "Q5. Create a simple API. Use Postman to test it. Attach the screenshot of the output in the Jupyter Notebook."
   ]
  },
  {
   "cell_type": "markdown",
   "id": "940c4b9d-1207-47f9-8afa-a9c9bf619a04",
   "metadata": {},
   "source": [
    "from flask import Flask\n",
    "\n",
    "app = Flask(__name__)\n",
    "\n",
    "@app.route(\"/\")\n",
    "def hello_world():\n",
    "    return \"<h1>Hello, World!</h1>\"\n",
    "\n",
    "if __name__==\"__main__\":\n",
    "    app.run(host=\"0.0.0.0\")\n"
   ]
  },
  {
   "cell_type": "code",
   "execution_count": null,
   "id": "1160f452-6e7b-4a9f-90c9-68270e050ec2",
   "metadata": {},
   "outputs": [],
   "source": []
  }
 ],
 "metadata": {
  "kernelspec": {
   "display_name": "Python 3 (ipykernel)",
   "language": "python",
   "name": "python3"
  },
  "language_info": {
   "codemirror_mode": {
    "name": "ipython",
    "version": 3
   },
   "file_extension": ".py",
   "mimetype": "text/x-python",
   "name": "python",
   "nbconvert_exporter": "python",
   "pygments_lexer": "ipython3",
   "version": "3.10.8"
  }
 },
 "nbformat": 4,
 "nbformat_minor": 5
}
